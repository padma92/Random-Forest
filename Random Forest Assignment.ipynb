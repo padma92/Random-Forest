{
 "cells": [
  {
   "cell_type": "code",
   "execution_count": 48,
   "id": "abc7a984",
   "metadata": {
    "ExecuteTime": {
     "end_time": "2021-11-18T06:01:22.493651Z",
     "start_time": "2021-11-18T06:01:22.488771Z"
    }
   },
   "outputs": [],
   "source": [
    "# Company Data Exercise"
   ]
  },
  {
   "cell_type": "code",
   "execution_count": 176,
   "id": "580b5288",
   "metadata": {
    "ExecuteTime": {
     "end_time": "2021-11-18T09:48:11.009958Z",
     "start_time": "2021-11-18T09:48:10.973723Z"
    }
   },
   "outputs": [
    {
     "data": {
      "text/html": [
       "<div>\n",
       "<style scoped>\n",
       "    .dataframe tbody tr th:only-of-type {\n",
       "        vertical-align: middle;\n",
       "    }\n",
       "\n",
       "    .dataframe tbody tr th {\n",
       "        vertical-align: top;\n",
       "    }\n",
       "\n",
       "    .dataframe thead th {\n",
       "        text-align: right;\n",
       "    }\n",
       "</style>\n",
       "<table border=\"1\" class=\"dataframe\">\n",
       "  <thead>\n",
       "    <tr style=\"text-align: right;\">\n",
       "      <th></th>\n",
       "      <th>CompPrice</th>\n",
       "      <th>Income</th>\n",
       "      <th>Advertising</th>\n",
       "      <th>Population</th>\n",
       "      <th>Price</th>\n",
       "      <th>ShelveLoc</th>\n",
       "      <th>Age</th>\n",
       "      <th>Education</th>\n",
       "      <th>Urban</th>\n",
       "      <th>US</th>\n",
       "      <th>Sales</th>\n",
       "    </tr>\n",
       "  </thead>\n",
       "  <tbody>\n",
       "    <tr>\n",
       "      <th>0</th>\n",
       "      <td>138</td>\n",
       "      <td>73</td>\n",
       "      <td>11</td>\n",
       "      <td>276</td>\n",
       "      <td>120</td>\n",
       "      <td>Bad</td>\n",
       "      <td>42</td>\n",
       "      <td>17</td>\n",
       "      <td>Yes</td>\n",
       "      <td>Yes</td>\n",
       "      <td>9.50</td>\n",
       "    </tr>\n",
       "    <tr>\n",
       "      <th>1</th>\n",
       "      <td>111</td>\n",
       "      <td>48</td>\n",
       "      <td>16</td>\n",
       "      <td>260</td>\n",
       "      <td>83</td>\n",
       "      <td>Good</td>\n",
       "      <td>65</td>\n",
       "      <td>10</td>\n",
       "      <td>Yes</td>\n",
       "      <td>Yes</td>\n",
       "      <td>11.22</td>\n",
       "    </tr>\n",
       "    <tr>\n",
       "      <th>2</th>\n",
       "      <td>113</td>\n",
       "      <td>35</td>\n",
       "      <td>10</td>\n",
       "      <td>269</td>\n",
       "      <td>80</td>\n",
       "      <td>Medium</td>\n",
       "      <td>59</td>\n",
       "      <td>12</td>\n",
       "      <td>Yes</td>\n",
       "      <td>Yes</td>\n",
       "      <td>10.06</td>\n",
       "    </tr>\n",
       "    <tr>\n",
       "      <th>3</th>\n",
       "      <td>117</td>\n",
       "      <td>100</td>\n",
       "      <td>4</td>\n",
       "      <td>466</td>\n",
       "      <td>97</td>\n",
       "      <td>Medium</td>\n",
       "      <td>55</td>\n",
       "      <td>14</td>\n",
       "      <td>Yes</td>\n",
       "      <td>Yes</td>\n",
       "      <td>7.40</td>\n",
       "    </tr>\n",
       "    <tr>\n",
       "      <th>4</th>\n",
       "      <td>141</td>\n",
       "      <td>64</td>\n",
       "      <td>3</td>\n",
       "      <td>340</td>\n",
       "      <td>128</td>\n",
       "      <td>Bad</td>\n",
       "      <td>38</td>\n",
       "      <td>13</td>\n",
       "      <td>Yes</td>\n",
       "      <td>No</td>\n",
       "      <td>4.15</td>\n",
       "    </tr>\n",
       "  </tbody>\n",
       "</table>\n",
       "</div>"
      ],
      "text/plain": [
       "   CompPrice  Income  Advertising  Population  Price ShelveLoc  Age  \\\n",
       "0        138      73           11         276    120       Bad   42   \n",
       "1        111      48           16         260     83      Good   65   \n",
       "2        113      35           10         269     80    Medium   59   \n",
       "3        117     100            4         466     97    Medium   55   \n",
       "4        141      64            3         340    128       Bad   38   \n",
       "\n",
       "   Education Urban   US  Sales  \n",
       "0         17   Yes  Yes   9.50  \n",
       "1         10   Yes  Yes  11.22  \n",
       "2         12   Yes  Yes  10.06  \n",
       "3         14   Yes  Yes   7.40  \n",
       "4         13   Yes   No   4.15  "
      ]
     },
     "execution_count": 176,
     "metadata": {},
     "output_type": "execute_result"
    }
   ],
   "source": [
    "import pandas as pd\n",
    "import numpy as np\n",
    "# Reading the Company Data #################\n",
    "data = pd.read_csv(\"Company_Data.csv\")\n",
    "data.head()"
   ]
  },
  {
   "cell_type": "code",
   "execution_count": 177,
   "id": "dc82b416",
   "metadata": {
    "ExecuteTime": {
     "end_time": "2021-11-18T09:48:11.636110Z",
     "start_time": "2021-11-18T09:48:11.615098Z"
    }
   },
   "outputs": [],
   "source": [
    "from sklearn import preprocessing \n",
    "label_encoder = preprocessing.LabelEncoder()\n",
    "\n",
    "data['Urban']= label_encoder.fit_transform(data['Urban']) \n",
    "\n",
    "label_encoder = preprocessing.LabelEncoder()\n",
    "data['US']= label_encoder.fit_transform(data['US']) \n",
    "\n",
    "label_encoder = preprocessing.LabelEncoder()\n",
    "data['ShelveLoc']= label_encoder.fit_transform(data['ShelveLoc']) \n",
    "\n",
    "label_encoder = preprocessing.LabelEncoder()\n",
    "data['Sales']= label_encoder.fit_transform(data['Sales']) "
   ]
  },
  {
   "cell_type": "code",
   "execution_count": 178,
   "id": "29868920",
   "metadata": {
    "ExecuteTime": {
     "end_time": "2021-11-18T09:48:12.190921Z",
     "start_time": "2021-11-18T09:48:12.180561Z"
    }
   },
   "outputs": [],
   "source": [
    "data.columns\n",
    "colnames = list(data.columns)"
   ]
  },
  {
   "cell_type": "code",
   "execution_count": 179,
   "id": "2af25d29",
   "metadata": {
    "ExecuteTime": {
     "end_time": "2021-11-18T09:48:12.646395Z",
     "start_time": "2021-11-18T09:48:12.635048Z"
    }
   },
   "outputs": [],
   "source": [
    "predictors = colnames[:10]\n",
    "target = colnames[10]"
   ]
  },
  {
   "cell_type": "code",
   "execution_count": 180,
   "id": "7c31651f",
   "metadata": {
    "ExecuteTime": {
     "end_time": "2021-11-18T09:48:13.103458Z",
     "start_time": "2021-11-18T09:48:13.081230Z"
    }
   },
   "outputs": [],
   "source": [
    "X = data[predictors]\n",
    "Y = data[target]"
   ]
  },
  {
   "cell_type": "code",
   "execution_count": 181,
   "id": "3486ea2e",
   "metadata": {
    "ExecuteTime": {
     "end_time": "2021-11-18T09:48:13.618280Z",
     "start_time": "2021-11-18T09:48:13.599814Z"
    }
   },
   "outputs": [],
   "source": [
    "from sklearn.ensemble import RandomForestClassifier\n",
    "rfdata = RandomForestClassifier(n_jobs=4,oob_score=True,n_estimators=100,criterion=\"entropy\")"
   ]
  },
  {
   "cell_type": "code",
   "execution_count": 182,
   "id": "890b6740",
   "metadata": {
    "ExecuteTime": {
     "end_time": "2021-11-18T09:48:14.811958Z",
     "start_time": "2021-11-18T09:48:14.065057Z"
    }
   },
   "outputs": [
    {
     "data": {
      "text/plain": [
       "RandomForestClassifier(criterion='entropy', n_jobs=4, oob_score=True)"
      ]
     },
     "execution_count": 182,
     "metadata": {},
     "output_type": "execute_result"
    }
   ],
   "source": [
    "rfdata.fit(X,Y)"
   ]
  },
  {
   "cell_type": "code",
   "execution_count": 183,
   "id": "8cc8dc66",
   "metadata": {
    "ExecuteTime": {
     "end_time": "2021-11-18T09:48:15.527622Z",
     "start_time": "2021-11-18T09:48:15.405077Z"
    }
   },
   "outputs": [],
   "source": [
    "data[\"rf_pred\"] = rfdata.predict(X)"
   ]
  },
  {
   "cell_type": "code",
   "execution_count": 184,
   "id": "11177e09",
   "metadata": {
    "ExecuteTime": {
     "end_time": "2021-11-18T09:48:16.069873Z",
     "start_time": "2021-11-18T09:48:16.041681Z"
    }
   },
   "outputs": [
    {
     "data": {
      "text/plain": [
       "array([[1, 0, 0, ..., 0, 0, 0],\n",
       "       [0, 1, 0, ..., 0, 0, 0],\n",
       "       [0, 0, 1, ..., 0, 0, 0],\n",
       "       ...,\n",
       "       [0, 0, 0, ..., 1, 0, 0],\n",
       "       [0, 0, 0, ..., 0, 1, 0],\n",
       "       [0, 0, 0, ..., 0, 0, 1]], dtype=int64)"
      ]
     },
     "execution_count": 184,
     "metadata": {},
     "output_type": "execute_result"
    }
   ],
   "source": [
    "from sklearn.metrics import confusion_matrix\n",
    "confusion_matrix(data[\"Sales\"],data[\"rf_pred\"])"
   ]
  },
  {
   "cell_type": "code",
   "execution_count": 185,
   "id": "b47cc02d",
   "metadata": {
    "ExecuteTime": {
     "end_time": "2021-11-18T09:48:16.536495Z",
     "start_time": "2021-11-18T09:48:16.520435Z"
    }
   },
   "outputs": [],
   "source": [
    "from sklearn.model_selection import train_test_split"
   ]
  },
  {
   "cell_type": "code",
   "execution_count": 186,
   "id": "09f08da6",
   "metadata": {
    "ExecuteTime": {
     "end_time": "2021-11-18T09:48:17.277295Z",
     "start_time": "2021-11-18T09:48:17.038526Z"
    }
   },
   "outputs": [],
   "source": [
    "# Splitting data into train & test\n",
    "Xtrain, Xtest, ytrain, ytest = train_test_split(X, Y, test_size=0.2, random_state=0)"
   ]
  },
  {
   "cell_type": "code",
   "execution_count": 187,
   "id": "0099d45a",
   "metadata": {
    "ExecuteTime": {
     "end_time": "2021-11-18T09:48:17.814954Z",
     "start_time": "2021-11-18T09:48:17.804473Z"
    }
   },
   "outputs": [],
   "source": [
    "#Choosing RandomForestClassifier\n",
    "from sklearn.ensemble import RandomForestClassifier"
   ]
  },
  {
   "cell_type": "code",
   "execution_count": 188,
   "id": "25939f99",
   "metadata": {
    "ExecuteTime": {
     "end_time": "2021-11-18T09:48:18.725093Z",
     "start_time": "2021-11-18T09:48:18.348112Z"
    }
   },
   "outputs": [
    {
     "data": {
      "text/plain": [
       "RandomForestClassifier(max_depth=10, min_samples_split=20)"
      ]
     },
     "execution_count": 188,
     "metadata": {},
     "output_type": "execute_result"
    }
   ],
   "source": [
    "forest = RandomForestClassifier(n_estimators=100,max_depth=10,min_samples_split=20,criterion='gini')  # n_estimators is the number of decision trees\n",
    "forest.fit(Xtrain, ytrain)"
   ]
  },
  {
   "cell_type": "code",
   "execution_count": 189,
   "id": "47c45a6f",
   "metadata": {
    "ExecuteTime": {
     "end_time": "2021-11-18T09:48:19.228974Z",
     "start_time": "2021-11-18T09:48:19.122980Z"
    }
   },
   "outputs": [
    {
     "name": "stdout",
     "output_type": "stream",
     "text": [
      "Train accuracy: 0.940625\n",
      "Test accuracy: 0.0\n"
     ]
    }
   ],
   "source": [
    "print('Train accuracy: {}'.format(forest.score(Xtrain, ytrain)))\n",
    "print('Test accuracy: {}'.format(forest.score(Xtest, ytest)))"
   ]
  },
  {
   "cell_type": "code",
   "execution_count": 190,
   "id": "59712c8a",
   "metadata": {
    "ExecuteTime": {
     "end_time": "2021-11-18T09:48:19.648233Z",
     "start_time": "2021-11-18T09:48:19.630173Z"
    }
   },
   "outputs": [],
   "source": [
    "# Fraud Check Exercise"
   ]
  },
  {
   "cell_type": "code",
   "execution_count": 191,
   "id": "2b173f2b",
   "metadata": {
    "ExecuteTime": {
     "end_time": "2021-11-18T09:48:20.318222Z",
     "start_time": "2021-11-18T09:48:20.096962Z"
    }
   },
   "outputs": [
    {
     "data": {
      "text/html": [
       "<div>\n",
       "<style scoped>\n",
       "    .dataframe tbody tr th:only-of-type {\n",
       "        vertical-align: middle;\n",
       "    }\n",
       "\n",
       "    .dataframe tbody tr th {\n",
       "        vertical-align: top;\n",
       "    }\n",
       "\n",
       "    .dataframe thead th {\n",
       "        text-align: right;\n",
       "    }\n",
       "</style>\n",
       "<table border=\"1\" class=\"dataframe\">\n",
       "  <thead>\n",
       "    <tr style=\"text-align: right;\">\n",
       "      <th></th>\n",
       "      <th>Undergrad</th>\n",
       "      <th>Marital Status</th>\n",
       "      <th>City Population</th>\n",
       "      <th>Work Experience</th>\n",
       "      <th>Urban</th>\n",
       "      <th>TaxableIncome</th>\n",
       "    </tr>\n",
       "  </thead>\n",
       "  <tbody>\n",
       "    <tr>\n",
       "      <th>0</th>\n",
       "      <td>NO</td>\n",
       "      <td>Single</td>\n",
       "      <td>50047</td>\n",
       "      <td>10</td>\n",
       "      <td>YES</td>\n",
       "      <td>68833</td>\n",
       "    </tr>\n",
       "    <tr>\n",
       "      <th>1</th>\n",
       "      <td>YES</td>\n",
       "      <td>Divorced</td>\n",
       "      <td>134075</td>\n",
       "      <td>18</td>\n",
       "      <td>YES</td>\n",
       "      <td>33700</td>\n",
       "    </tr>\n",
       "    <tr>\n",
       "      <th>2</th>\n",
       "      <td>NO</td>\n",
       "      <td>Married</td>\n",
       "      <td>160205</td>\n",
       "      <td>30</td>\n",
       "      <td>YES</td>\n",
       "      <td>36925</td>\n",
       "    </tr>\n",
       "    <tr>\n",
       "      <th>3</th>\n",
       "      <td>YES</td>\n",
       "      <td>Single</td>\n",
       "      <td>193264</td>\n",
       "      <td>15</td>\n",
       "      <td>YES</td>\n",
       "      <td>50190</td>\n",
       "    </tr>\n",
       "    <tr>\n",
       "      <th>4</th>\n",
       "      <td>NO</td>\n",
       "      <td>Married</td>\n",
       "      <td>27533</td>\n",
       "      <td>28</td>\n",
       "      <td>NO</td>\n",
       "      <td>81002</td>\n",
       "    </tr>\n",
       "  </tbody>\n",
       "</table>\n",
       "</div>"
      ],
      "text/plain": [
       "  Undergrad Marital Status  City Population  Work Experience Urban  \\\n",
       "0        NO         Single            50047               10   YES   \n",
       "1       YES       Divorced           134075               18   YES   \n",
       "2        NO        Married           160205               30   YES   \n",
       "3       YES         Single           193264               15   YES   \n",
       "4        NO        Married            27533               28    NO   \n",
       "\n",
       "   TaxableIncome  \n",
       "0          68833  \n",
       "1          33700  \n",
       "2          36925  \n",
       "3          50190  \n",
       "4          81002  "
      ]
     },
     "execution_count": 191,
     "metadata": {},
     "output_type": "execute_result"
    }
   ],
   "source": [
    "import pandas as pd\n",
    "import numpy as np\n",
    "# Reading the Fraud Check Data #################\n",
    "data = pd.read_csv(\"Fraud_check.csv\")\n",
    "data.head()"
   ]
  },
  {
   "cell_type": "code",
   "execution_count": 192,
   "id": "726250cb",
   "metadata": {
    "ExecuteTime": {
     "end_time": "2021-11-18T09:48:20.819562Z",
     "start_time": "2021-11-18T09:48:20.790503Z"
    }
   },
   "outputs": [],
   "source": [
    "from sklearn.preprocessing import LabelEncoder\n",
    "from sklearn import preprocessing \n",
    "\n",
    "label_encoder = preprocessing.LabelEncoder()\n",
    "data['Marital Status']= label_encoder.fit_transform(data['Marital Status']) \n",
    "\n",
    "label_encoder = preprocessing.LabelEncoder()\n",
    "data['Urban']= label_encoder.fit_transform(data['Urban']) \n",
    "\n",
    "label_encoder = preprocessing.LabelEncoder()\n",
    "data['Undergrad']= label_encoder.fit_transform(data['Undergrad']) \n",
    "\n",
    "label_encoder = preprocessing.LabelEncoder()\n",
    "data['TaxableIncome']= label_encoder.fit_transform(data['TaxableIncome']) "
   ]
  },
  {
   "cell_type": "code",
   "execution_count": 193,
   "id": "8c267272",
   "metadata": {
    "ExecuteTime": {
     "end_time": "2021-11-18T09:48:21.310081Z",
     "start_time": "2021-11-18T09:48:21.292011Z"
    }
   },
   "outputs": [],
   "source": [
    "X=data[[\"Undergrad\",\"Marital Status\",\"City Population\",\"Work Experience\",\"Urban\"]]\n",
    "y=data[[\"TaxableIncome\"]]"
   ]
  },
  {
   "cell_type": "code",
   "execution_count": 163,
   "id": "0fdd0c33",
   "metadata": {
    "ExecuteTime": {
     "end_time": "2021-11-18T09:44:12.902418Z",
     "start_time": "2021-11-18T09:44:12.893431Z"
    }
   },
   "outputs": [],
   "source": [
    "from sklearn.ensemble import RandomForestClassifier\n",
    "rfdata = RandomForestClassifier(n_jobs=4,oob_score=True,n_estimators=100,criterion=\"entropy\")"
   ]
  },
  {
   "cell_type": "code",
   "execution_count": 164,
   "id": "d1eb920c",
   "metadata": {
    "ExecuteTime": {
     "end_time": "2021-11-18T09:44:14.847960Z",
     "start_time": "2021-11-18T09:44:13.834553Z"
    }
   },
   "outputs": [
    {
     "name": "stderr",
     "output_type": "stream",
     "text": [
      "<ipython-input-164-85502f78c8fc>:1: DataConversionWarning: A column-vector y was passed when a 1d array was expected. Please change the shape of y to (n_samples,), for example using ravel().\n",
      "  rfdata.fit(X,y)\n"
     ]
    },
    {
     "data": {
      "text/plain": [
       "RandomForestClassifier(criterion='entropy', n_jobs=4, oob_score=True)"
      ]
     },
     "execution_count": 164,
     "metadata": {},
     "output_type": "execute_result"
    }
   ],
   "source": [
    "rfdata.fit(X,y)"
   ]
  },
  {
   "cell_type": "code",
   "execution_count": 165,
   "id": "c754f39f",
   "metadata": {
    "ExecuteTime": {
     "end_time": "2021-11-18T09:44:16.279825Z",
     "start_time": "2021-11-18T09:44:16.054511Z"
    }
   },
   "outputs": [],
   "source": [
    "data[\"rf_pred\"] = rfdata.predict(X)"
   ]
  },
  {
   "cell_type": "code",
   "execution_count": 172,
   "id": "6a43a7a4",
   "metadata": {
    "ExecuteTime": {
     "end_time": "2021-11-18T09:46:16.648699Z",
     "start_time": "2021-11-18T09:46:16.601963Z"
    }
   },
   "outputs": [
    {
     "data": {
      "text/plain": [
       "array([[1, 0, 0, ..., 0, 0, 0],\n",
       "       [0, 1, 0, ..., 0, 0, 0],\n",
       "       [0, 0, 1, ..., 0, 0, 0],\n",
       "       ...,\n",
       "       [0, 0, 0, ..., 1, 0, 0],\n",
       "       [0, 0, 0, ..., 0, 1, 0],\n",
       "       [0, 0, 0, ..., 0, 0, 1]], dtype=int64)"
      ]
     },
     "execution_count": 172,
     "metadata": {},
     "output_type": "execute_result"
    }
   ],
   "source": [
    "from sklearn.metrics import confusion_matrix\n",
    "confusion_matrix(data[\"TaxableIncome\"],data[\"rf_pred\"])"
   ]
  },
  {
   "cell_type": "code",
   "execution_count": 167,
   "id": "3a42a4db",
   "metadata": {
    "ExecuteTime": {
     "end_time": "2021-11-18T09:44:17.856526Z",
     "start_time": "2021-11-18T09:44:17.851312Z"
    }
   },
   "outputs": [],
   "source": [
    "from sklearn.model_selection import train_test_split"
   ]
  },
  {
   "cell_type": "code",
   "execution_count": 168,
   "id": "36fd70b3",
   "metadata": {
    "ExecuteTime": {
     "end_time": "2021-11-18T09:44:19.333933Z",
     "start_time": "2021-11-18T09:44:19.312656Z"
    }
   },
   "outputs": [],
   "source": [
    "# Splitting data into train & test\n",
    "Xtrain, Xtest, ytrain, ytest = train_test_split(X, y, test_size=0.2, random_state=0)"
   ]
  },
  {
   "cell_type": "code",
   "execution_count": 169,
   "id": "28077fc8",
   "metadata": {
    "ExecuteTime": {
     "end_time": "2021-11-18T09:44:22.047028Z",
     "start_time": "2021-11-18T09:44:22.040440Z"
    }
   },
   "outputs": [],
   "source": [
    "#Choosing RandomForestClassifier\n",
    "from sklearn.ensemble import RandomForestClassifier"
   ]
  },
  {
   "cell_type": "code",
   "execution_count": 170,
   "id": "e20cfacd",
   "metadata": {
    "ExecuteTime": {
     "end_time": "2021-11-18T09:44:25.422565Z",
     "start_time": "2021-11-18T09:44:24.563800Z"
    }
   },
   "outputs": [
    {
     "name": "stderr",
     "output_type": "stream",
     "text": [
      "<ipython-input-170-7b1920060ca2>:2: DataConversionWarning: A column-vector y was passed when a 1d array was expected. Please change the shape of y to (n_samples,), for example using ravel().\n",
      "  forest.fit(Xtrain, ytrain)\n"
     ]
    },
    {
     "data": {
      "text/plain": [
       "RandomForestClassifier(criterion='entropy', max_depth=5, min_samples_split=20,\n",
       "                       n_estimators=150)"
      ]
     },
     "execution_count": 170,
     "metadata": {},
     "output_type": "execute_result"
    }
   ],
   "source": [
    "forest = RandomForestClassifier(n_estimators=150,max_depth=5,min_samples_split=20,criterion='entropy') \n",
    "forest.fit(Xtrain, ytrain)"
   ]
  },
  {
   "cell_type": "code",
   "execution_count": 171,
   "id": "0c206709",
   "metadata": {
    "ExecuteTime": {
     "end_time": "2021-11-18T09:44:26.582237Z",
     "start_time": "2021-11-18T09:44:26.022222Z"
    }
   },
   "outputs": [
    {
     "name": "stdout",
     "output_type": "stream",
     "text": [
      "Train accuracy: 0.9166666666666666\n",
      "Test accuracy: 0.0\n"
     ]
    }
   ],
   "source": [
    "print('Train accuracy: {}'.format(forest.score(Xtrain, ytrain)))\n",
    "print('Test accuracy: {}'.format(forest.score(Xtest, ytest)))"
   ]
  },
  {
   "cell_type": "code",
   "execution_count": null,
   "id": "194eeeb0",
   "metadata": {},
   "outputs": [],
   "source": []
  }
 ],
 "metadata": {
  "kernelspec": {
   "display_name": "Python 3",
   "language": "python",
   "name": "python3"
  },
  "language_info": {
   "codemirror_mode": {
    "name": "ipython",
    "version": 3
   },
   "file_extension": ".py",
   "mimetype": "text/x-python",
   "name": "python",
   "nbconvert_exporter": "python",
   "pygments_lexer": "ipython3",
   "version": "3.8.8"
  },
  "toc": {
   "base_numbering": 1,
   "nav_menu": {},
   "number_sections": true,
   "sideBar": true,
   "skip_h1_title": false,
   "title_cell": "Table of Contents",
   "title_sidebar": "Contents",
   "toc_cell": false,
   "toc_position": {},
   "toc_section_display": true,
   "toc_window_display": false
  },
  "varInspector": {
   "cols": {
    "lenName": 16,
    "lenType": 16,
    "lenVar": 40
   },
   "kernels_config": {
    "python": {
     "delete_cmd_postfix": "",
     "delete_cmd_prefix": "del ",
     "library": "var_list.py",
     "varRefreshCmd": "print(var_dic_list())"
    },
    "r": {
     "delete_cmd_postfix": ") ",
     "delete_cmd_prefix": "rm(",
     "library": "var_list.r",
     "varRefreshCmd": "cat(var_dic_list()) "
    }
   },
   "types_to_exclude": [
    "module",
    "function",
    "builtin_function_or_method",
    "instance",
    "_Feature"
   ],
   "window_display": false
  }
 },
 "nbformat": 4,
 "nbformat_minor": 5
}
